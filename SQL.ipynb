{
 "cells": [
  {
   "cell_type": "code",
   "execution_count": 7,
   "metadata": {},
   "outputs": [],
   "source": [
    "import mysql.connector"
   ]
  },
  {
   "cell_type": "code",
   "execution_count": 2,
   "metadata": {},
   "outputs": [
    {
     "name": "stdout",
     "output_type": "stream",
     "text": [
      "Collecting pymysql\n",
      "  Using cached PyMySQL-1.1.1-py3-none-any.whl.metadata (4.4 kB)\n",
      "Using cached PyMySQL-1.1.1-py3-none-any.whl (44 kB)\n",
      "Installing collected packages: pymysql\n",
      "Successfully installed pymysql-1.1.1\n"
     ]
    }
   ],
   "source": [
    "!pip install pymysql"
   ]
  },
  {
   "cell_type": "code",
   "execution_count": 8,
   "metadata": {},
   "outputs": [],
   "source": [
    "conn = mysql.connector.connect(\n",
    "            host='localhost',\n",
    "            user='root',\n",
    "            password='',\n",
    "            database='bus_data'\n",
    "        )"
   ]
  },
  {
   "cell_type": "code",
   "execution_count": 9,
   "metadata": {},
   "outputs": [],
   "source": [
    "cursor = conn.cursor()"
   ]
  },
  {
   "cell_type": "code",
   "execution_count": 14,
   "metadata": {},
   "outputs": [],
   "source": [
    "results = cursor.fetchall()  "
   ]
  },
  {
   "cell_type": "code",
   "execution_count": 15,
   "metadata": {},
   "outputs": [],
   "source": [
    "cursor.execute(\"\"\"\n",
    "    SELECT DISTINCT bus_type \n",
    "    FROM buses \n",
    "    WHERE bus_type NOT IN ('Push Back', 'Seater', 'AC Seater', 'Sleeper', 'AC Sleeper', 'AC Push Back')\n",
    "\"\"\")\n"
   ]
  },
  {
   "cell_type": "code",
   "execution_count": 16,
   "metadata": {},
   "outputs": [
    {
     "data": {
      "text/plain": [
       "[('AMARAVATHI (VOLVO / SCANIA A.C Multi Axle)',),\n",
       " ('DOLPHIN CRUISE (VOLVO / SCANIA A.C Multi Axle)',),\n",
       " ('eGARUDA',),\n",
       " ('GARUDA PLUS (VOLVO / BENZ A.C Multi Axle)',),\n",
       " ('Unknown',),\n",
       " ('SAPTAGIRI EXPRESS',),\n",
       " ('NON A/C Hi-Tech (2+2)',),\n",
       " ('METRO LUXURY A/C',),\n",
       " ('RAJADHANI AC (CONVERTED METRO LUXURY)',),\n",
       " ('NON A/C Executive (2+1)',),\n",
       " ('e-SUP LUXURY (2+2)',),\n",
       " ('NON A/C Airbus (2+2)',),\n",
       " ('Swift Deluxe Non AC Air Bus (2+2)',),\n",
       " ('AC MULTI AXLE',),\n",
       " ('NON A/C (2+1)',),\n",
       " ('A/C Executive (2+3)',),\n",
       " ('AshokLeyland Stile A/C',),\n",
       " ('Mercedes Benz A/C (2+2)',),\n",
       " ('SHATABDI (2+3)',),\n",
       " ('Tempo Traveler NON A/C',)]"
      ]
     },
     "execution_count": 16,
     "metadata": {},
     "output_type": "execute_result"
    }
   ],
   "source": [
    "results"
   ]
  },
  {
   "cell_type": "code",
   "execution_count": null,
   "metadata": {},
   "outputs": [],
   "source": []
  }
 ],
 "metadata": {
  "kernelspec": {
   "display_name": "Python 3",
   "language": "python",
   "name": "python3"
  },
  "language_info": {
   "codemirror_mode": {
    "name": "ipython",
    "version": 3
   },
   "file_extension": ".py",
   "mimetype": "text/x-python",
   "name": "python",
   "nbconvert_exporter": "python",
   "pygments_lexer": "ipython3",
   "version": "3.13.0"
  }
 },
 "nbformat": 4,
 "nbformat_minor": 2
}
